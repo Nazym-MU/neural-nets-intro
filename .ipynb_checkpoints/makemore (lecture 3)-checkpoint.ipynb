{
 "cells": [
  {
   "cell_type": "markdown",
   "id": "e61b2533-256f-4824-bc36-cf1f9536d7f2",
   "metadata": {},
   "source": [
    "If we increase the context size (from 1 character to 2, for example), the model we built is going to get overly complicated. \\\n",
    "\\\n",
    "This notebook focuses on implementing a multi-layer perceptron character-level language model. \\\n",
    "\\\n",
    "**Number of features = number of dimensions** \\\n",
    "\\\n",
    "Randomly initialized vectors of words (or characters in this notebook) => tune the embeddings (vectors) using backpropagation."
   ]
  },
  {
   "cell_type": "code",
   "execution_count": 253,
   "id": "2adbc400-1f0b-4453-9b36-46b621a9f19b",
   "metadata": {},
   "outputs": [],
   "source": [
    "import torch\n",
    "import torch.nn.functional as F\n",
    "import matplotlib.pyplot as plt\n",
    "%matplotlib inline"
   ]
  },
  {
   "cell_type": "code",
   "execution_count": 254,
   "id": "adb45e2f-ae1e-4cd1-9735-806d9821db2c",
   "metadata": {},
   "outputs": [],
   "source": [
    "words = open('names.txt', 'r').read().splitlines()"
   ]
  },
  {
   "cell_type": "code",
   "execution_count": 255,
   "id": "843ebe81-8b78-4cef-a920-76a2fee01f99",
   "metadata": {},
   "outputs": [
    {
     "data": {
      "text/plain": [
       "32033"
      ]
     },
     "execution_count": 255,
     "metadata": {},
     "output_type": "execute_result"
    }
   ],
   "source": [
    "len(words)"
   ]
  },
  {
   "cell_type": "code",
   "execution_count": 256,
   "id": "4699784b-84d0-4807-a30b-46da7055acba",
   "metadata": {},
   "outputs": [],
   "source": [
    "chars = sorted(list(set(''.join(words))))\n",
    "stoi = {s:i+1 for i, s in enumerate(chars)}\n",
    "stoi['.'] = 0\n",
    "itos = {i:s for s, i in stoi.items()}"
   ]
  },
  {
   "cell_type": "code",
   "execution_count": 257,
   "id": "581aab9f-9459-4992-b0d6-d29d94ed6d41",
   "metadata": {},
   "outputs": [],
   "source": [
    "def build_dataset(words):\n",
    "    block_size = 3 \n",
    "    X, Y = [], []\n",
    "    for w in words:\n",
    "        context = [0] * block_size\n",
    "        for ch in w + '.':\n",
    "            idx = stoi[ch]\n",
    "            X.append(context)\n",
    "            Y.append(idx)\n",
    "            context = context[1:] + [idx]\n",
    "    \n",
    "    X = torch.tensor(X)\n",
    "    Y = torch.tensor(Y)\n",
    "    print(X.shape, Y.shape)\n",
    "    return X, Y"
   ]
  },
  {
   "cell_type": "code",
   "execution_count": 258,
   "id": "7f69a05c-1aaa-4f62-b469-8e935e6930a0",
   "metadata": {
    "scrolled": true
   },
   "outputs": [
    {
     "name": "stdout",
     "output_type": "stream",
     "text": [
      "torch.Size([32, 3]) torch.Size([32])\n"
     ]
    }
   ],
   "source": [
    "X, Y = build_dataset(words[:5])"
   ]
  },
  {
   "cell_type": "code",
   "execution_count": 259,
   "id": "662feab3-6fee-4286-afa4-147c4230c9b5",
   "metadata": {},
   "outputs": [
    {
     "data": {
      "text/plain": [
       "(torch.Size([32, 3]), torch.int64, torch.Size([32]), torch.int64)"
      ]
     },
     "execution_count": 259,
     "metadata": {},
     "output_type": "execute_result"
    }
   ],
   "source": [
    "X.shape, X.dtype, Y.shape, Y.dtype # the dataset we built has 32 examples with 3 integers each and 32 integer labels "
   ]
  },
  {
   "cell_type": "code",
   "execution_count": 260,
   "id": "1402a35b-e701-4cbb-b426-90ee8cb699d3",
   "metadata": {},
   "outputs": [
    {
     "data": {
      "text/plain": [
       "tensor([[ 0,  0,  0],\n",
       "        [ 0,  0,  5],\n",
       "        [ 0,  5, 13],\n",
       "        [ 5, 13, 13],\n",
       "        [13, 13,  1],\n",
       "        [ 0,  0,  0],\n",
       "        [ 0,  0, 15],\n",
       "        [ 0, 15, 12],\n",
       "        [15, 12,  9],\n",
       "        [12,  9, 22],\n",
       "        [ 9, 22,  9],\n",
       "        [22,  9,  1],\n",
       "        [ 0,  0,  0],\n",
       "        [ 0,  0,  1],\n",
       "        [ 0,  1, 22],\n",
       "        [ 1, 22,  1],\n",
       "        [ 0,  0,  0],\n",
       "        [ 0,  0,  9],\n",
       "        [ 0,  9, 19],\n",
       "        [ 9, 19,  1],\n",
       "        [19,  1,  2],\n",
       "        [ 1,  2,  5],\n",
       "        [ 2,  5, 12],\n",
       "        [ 5, 12, 12],\n",
       "        [12, 12,  1],\n",
       "        [ 0,  0,  0],\n",
       "        [ 0,  0, 19],\n",
       "        [ 0, 19, 15],\n",
       "        [19, 15, 16],\n",
       "        [15, 16,  8],\n",
       "        [16,  8,  9],\n",
       "        [ 8,  9,  1]])"
      ]
     },
     "execution_count": 260,
     "metadata": {},
     "output_type": "execute_result"
    }
   ],
   "source": [
    "X"
   ]
  },
  {
   "cell_type": "code",
   "execution_count": 261,
   "id": "7aeeed7a-b70f-46c2-8956-a0d4a7ed6108",
   "metadata": {},
   "outputs": [
    {
     "data": {
      "text/plain": [
       "tensor([ 5, 13, 13,  1,  0, 15, 12,  9, 22,  9,  1,  0,  1, 22,  1,  0,  9, 19,\n",
       "         1,  2,  5, 12, 12,  1,  0, 19, 15, 16,  8,  9,  1,  0])"
      ]
     },
     "execution_count": 261,
     "metadata": {},
     "output_type": "execute_result"
    }
   ],
   "source": [
    "Y"
   ]
  },
  {
   "cell_type": "code",
   "execution_count": 262,
   "id": "d5f15795-2acd-4662-8aae-5ae00cb75461",
   "metadata": {},
   "outputs": [],
   "source": [
    "# we have 27 characters to embed in a lower-dimensional space\n",
    "# in the paper (Bengio et al.), they embed 17000 words into 30d space\n",
    "# we can embed 27 characters in 2d\n",
    "C = torch.randn((27, 2))"
   ]
  },
  {
   "cell_type": "code",
   "execution_count": 263,
   "id": "f59d10f4-e249-469b-8fb2-9c94737f0924",
   "metadata": {},
   "outputs": [
    {
     "data": {
      "text/plain": [
       "tensor([[ 0.3010,  0.2846],\n",
       "        [-0.6554, -0.4376],\n",
       "        [-1.4828,  0.8736]])"
      ]
     },
     "execution_count": 263,
     "metadata": {},
     "output_type": "execute_result"
    }
   ],
   "source": [
    "C[[5, 6, 7]] # the vectors of E, F, G in the embedding space"
   ]
  },
  {
   "cell_type": "code",
   "execution_count": 264,
   "id": "82cd8e29-488e-4413-a6b8-2e461674e7c0",
   "metadata": {},
   "outputs": [
    {
     "data": {
      "text/plain": [
       "torch.Size([32, 3, 2])"
      ]
     },
     "execution_count": 264,
     "metadata": {},
     "output_type": "execute_result"
    }
   ],
   "source": [
    "# we can embed all of the integers like:\n",
    "emb = C[X]\n",
    "emb.shape"
   ]
  },
  {
   "cell_type": "markdown",
   "id": "5990d8e8-c849-471d-af17-a314a3172d1d",
   "metadata": {},
   "source": [
    "### The hidden layer"
   ]
  },
  {
   "cell_type": "code",
   "execution_count": 265,
   "id": "adee0410-7efd-44a4-bdc0-55208089e478",
   "metadata": {},
   "outputs": [],
   "source": [
    "W1 = torch.randn((6, 100)) # weights of the hidden layer: we have three 2D embeddings, so the number of inputs = 6\n",
    "b1 = torch.randn(100) # number of neurons in the layer is variable, e.g. 100"
   ]
  },
  {
   "cell_type": "markdown",
   "id": "5a3e262d-baf2-4c7f-8058-8afa051b781e",
   "metadata": {
    "jp-MarkdownHeadingCollapsed": true
   },
   "source": [
    "emb @ W1 + b1 matrix multiplication does not work because the dimensions don't match, so we need to concatenate the input layer, or more efficiently, \"view\" it in another dimension (constant space complexity).\n",
    "\n",
    "**(32, 3, 2) => (32, 6)**"
   ]
  },
  {
   "cell_type": "code",
   "execution_count": 266,
   "id": "7c1913f1-b0cf-47f9-8aa7-baa34722f7e2",
   "metadata": {},
   "outputs": [],
   "source": [
    "h = torch.tanh(emb.view(-1, 6) @ W1 + b1) # tanh activation layer, we'll have numbers between -1 and 1"
   ]
  },
  {
   "cell_type": "code",
   "execution_count": 267,
   "id": "bb003e9f-c9fa-418e-860f-17dd42477729",
   "metadata": {},
   "outputs": [
    {
     "data": {
      "text/plain": [
       "torch.Size([32, 100])"
      ]
     },
     "execution_count": 267,
     "metadata": {},
     "output_type": "execute_result"
    }
   ],
   "source": [
    "h.shape"
   ]
  },
  {
   "cell_type": "markdown",
   "id": "a0f8225f-8685-40fe-8f89-d5f01208d64a",
   "metadata": {},
   "source": [
    "### The output layer"
   ]
  },
  {
   "cell_type": "code",
   "execution_count": 268,
   "id": "10a82c61-26f5-4973-ac0a-858089a23b7d",
   "metadata": {},
   "outputs": [],
   "source": [
    "W2 = torch.randn((100, 27))\n",
    "b2 = torch.randn(27)"
   ]
  },
  {
   "cell_type": "code",
   "execution_count": 269,
   "id": "6143579a-c8ee-405c-9ac3-cdf84a7ae296",
   "metadata": {},
   "outputs": [],
   "source": [
    "logits = h @ W2 + b2"
   ]
  },
  {
   "cell_type": "code",
   "execution_count": 270,
   "id": "3f03d178-1cbc-47d1-b12b-1e51825f55f3",
   "metadata": {},
   "outputs": [
    {
     "data": {
      "text/plain": [
       "torch.Size([32, 27])"
      ]
     },
     "execution_count": 270,
     "metadata": {},
     "output_type": "execute_result"
    }
   ],
   "source": [
    "logits.shape"
   ]
  },
  {
   "cell_type": "code",
   "execution_count": 271,
   "id": "a4ab1f42-71c4-485a-b9b1-a9548c09e4e8",
   "metadata": {},
   "outputs": [],
   "source": [
    "counts = logits.exp()"
   ]
  },
  {
   "cell_type": "code",
   "execution_count": 272,
   "id": "b8663601-5067-4697-9ffc-28d9326c7e63",
   "metadata": {},
   "outputs": [],
   "source": [
    "prob = counts / counts.sum(1, keepdims=True)"
   ]
  },
  {
   "cell_type": "code",
   "execution_count": 273,
   "id": "156b756e-534f-48fd-9b6a-03f0be8ae424",
   "metadata": {},
   "outputs": [
    {
     "data": {
      "text/plain": [
       "torch.Size([32, 27])"
      ]
     },
     "execution_count": 273,
     "metadata": {},
     "output_type": "execute_result"
    }
   ],
   "source": [
    "prob.shape"
   ]
  },
  {
   "cell_type": "code",
   "execution_count": 274,
   "id": "9fd59335-0d4c-42e4-b0d6-9eb5958fcd5f",
   "metadata": {},
   "outputs": [
    {
     "data": {
      "text/plain": [
       "tensor(19.5020)"
      ]
     },
     "execution_count": 274,
     "metadata": {},
     "output_type": "execute_result"
    }
   ],
   "source": [
    "loss = -prob[torch.arange(32), Y].log().mean()\n",
    "loss"
   ]
  },
  {
   "cell_type": "markdown",
   "id": "e93ae91a-8823-473a-aa7a-4833c46af62c",
   "metadata": {},
   "source": [
    "### Summary\n",
    "Shorter version of the code + we replace the following lines: \\\n",
    "```python\n",
    "counts = logits.exp()\n",
    "prob = counts / counts.sum(1, keepdims=True)\n",
    "loss = -prob[torch.arange(32), Y].log().mean()\n",
    "```\n",
    "with\n",
    "```python\n",
    "F.cross_entropy(logits, Y)\n",
    "```\n",
    "**Why F.cross_entropy is better than manual implementation:**\n",
    "1. Uses optimized, fused kernels that avoid creating intermediate tensors (```counts``` and ```prob```) => reduces memory overhead and improves forward and backward passes.\n",
    "2. Manual approach can overflow when exponentiating large logits. F.cross_entropy internally subtracts the maximum logit value before exponentiation => prevents overflow, maintains mathematical equivalence, achieves numerical stability."
   ]
  },
  {
   "cell_type": "code",
   "execution_count": 275,
   "id": "bc121d79-4df7-4e5d-a141-60091059442b",
   "metadata": {},
   "outputs": [
    {
     "data": {
      "text/plain": [
       "(torch.Size([32, 3]), torch.Size([32]))"
      ]
     },
     "execution_count": 275,
     "metadata": {},
     "output_type": "execute_result"
    }
   ],
   "source": [
    "X.shape, Y.shape"
   ]
  },
  {
   "cell_type": "code",
   "execution_count": 276,
   "id": "d233ce3d-7ca1-457d-99c2-b44e743c5867",
   "metadata": {},
   "outputs": [],
   "source": [
    "g = torch.Generator().manual_seed(76829343259483)\n",
    "C = torch.randn((27, 2), generator=g)\n",
    "W1 = torch.randn((6, 100), generator=g)\n",
    "b1 = torch.randn(100, generator=g)\n",
    "W2 = torch.randn((100, 27), generator=g)\n",
    "b2 = torch.randn(27, generator=g)\n",
    "parameters = [C, W1, b1, W2, b2]"
   ]
  },
  {
   "cell_type": "code",
   "execution_count": 277,
   "id": "0da210ce-3eb0-465e-a8db-031835b88e29",
   "metadata": {},
   "outputs": [
    {
     "data": {
      "text/plain": [
       "3481"
      ]
     },
     "execution_count": 277,
     "metadata": {},
     "output_type": "execute_result"
    }
   ],
   "source": [
    "sum(p.nelement() for p in parameters) # number of parameters in total"
   ]
  },
  {
   "cell_type": "code",
   "execution_count": 278,
   "id": "3c91d2a1-ebfd-46ee-98f1-beb795f3c25e",
   "metadata": {},
   "outputs": [],
   "source": [
    "for p in parameters:\n",
    "    p.requires_grad = True"
   ]
  },
  {
   "cell_type": "code",
   "execution_count": 279,
   "id": "e34beb1a-ccf8-415f-aa88-9bd085aabebc",
   "metadata": {},
   "outputs": [
    {
     "name": "stdout",
     "output_type": "stream",
     "text": [
      "6.352474689483643\n"
     ]
    }
   ],
   "source": [
    "for _ in range(10):\n",
    "    # forward pass\n",
    "    emb = C[X] # (32, 3, 2)\n",
    "    h = torch.tanh(emb.view(-1, 6) @ W1 + b1) # (32, 100)\n",
    "    logits = h @ W2 + b2 # (32, 27)\n",
    "    loss = F.cross_entropy(logits, Y)\n",
    "    # backward pass\n",
    "    for p in parameters:\n",
    "        p.grad = None\n",
    "    loss.backward()\n",
    "    # update\n",
    "    for p in parameters:\n",
    "        p.data += -0.1 * p.grad\n",
    "print(loss.item())"
   ]
  },
  {
   "cell_type": "markdown",
   "id": "6f006ffd-802a-48a4-8543-93b57ecdca1c",
   "metadata": {},
   "source": [
    "### Training the whole dataset\n",
    "There are too many parameters, so it's gonna take a while. We want to select a random portion of the dataset (mini-batch), forward-backward-update on that mini-batch, and keep iterating."
   ]
  },
  {
   "cell_type": "code",
   "execution_count": 280,
   "id": "69dffddb-877c-4080-b700-d0e0b71d784c",
   "metadata": {},
   "outputs": [
    {
     "name": "stdout",
     "output_type": "stream",
     "text": [
      "torch.Size([228146, 3]) torch.Size([228146])\n"
     ]
    }
   ],
   "source": [
    "X, Y = build_dataset(words)"
   ]
  },
  {
   "cell_type": "code",
   "execution_count": 281,
   "id": "19c8d1a1-e984-4a5c-8450-10f32a3b8e66",
   "metadata": {},
   "outputs": [],
   "source": [
    "g = torch.Generator().manual_seed(76829343259483)\n",
    "C = torch.randn((27, 2), generator=g)\n",
    "W1 = torch.randn((6, 100), generator=g)\n",
    "b1 = torch.randn(100, generator=g)\n",
    "W2 = torch.randn((100, 27), generator=g)\n",
    "b2 = torch.randn(27, generator=g)\n",
    "parameters = [C, W1, b1, W2, b2]"
   ]
  },
  {
   "cell_type": "code",
   "execution_count": 282,
   "id": "744fbb25-3c15-48d1-9a61-0e0f85547671",
   "metadata": {},
   "outputs": [],
   "source": [
    "for p in parameters:\n",
    "    p.requires_grad = True"
   ]
  },
  {
   "cell_type": "markdown",
   "id": "ff2a7246-16f9-43c6-9480-e558e35ba7c7",
   "metadata": {},
   "source": [
    "**How to determine the best learning rate** \\\n",
    "Step linearly between the exponents of the learning rate (between 0.001 and 1), and see which one has the lowest loss."
   ]
  },
  {
   "cell_type": "code",
   "execution_count": 283,
   "id": "d69de28d-541f-4206-94d2-32628cb8a73d",
   "metadata": {},
   "outputs": [],
   "source": [
    "lre = torch.linspace(-3, 0, 1000)\n",
    "lrs = 10**lre"
   ]
  },
  {
   "cell_type": "code",
   "execution_count": 284,
   "id": "7c2d5659-e273-480d-9037-4dffe6d15066",
   "metadata": {},
   "outputs": [],
   "source": [
    "lri = []\n",
    "lossi = []\n",
    "\n",
    "for i in range(1000):\n",
    "    \n",
    "    # mini-batch construct\n",
    "    idx = torch.randint(0, X.shape[0], (32,)) # 32 random indices between 0 and 228146\n",
    "\n",
    "    # forward pass\n",
    "    emb = C[X[idx]] # (32, 3, 2)\n",
    "    h = torch.tanh(emb.view(-1, 6) @ W1 + b1) # (32, 100)\n",
    "    logits = h @ W2 + b2 # (32, 27)\n",
    "    loss = F.cross_entropy(logits, Y[idx])\n",
    "    \n",
    "    # backward pass\n",
    "    for p in parameters:\n",
    "        p.grad = None\n",
    "    loss.backward()\n",
    "    \n",
    "    # update\n",
    "    lr = lrs[i]\n",
    "    for p in parameters:\n",
    "        p.data += -lr * p.grad\n",
    "\n",
    "    # track stats\n",
    "    lri.append(lre[i])\n",
    "    lossi.append(loss.item())"
   ]
  },
  {
   "cell_type": "code",
   "execution_count": 285,
   "id": "8b40dd3e-1b5e-4903-a867-e4649aef64e1",
   "metadata": {},
   "outputs": [
    {
     "data": {
      "text/plain": [
       "[<matplotlib.lines.Line2D at 0x13b202a20>]"
      ]
     },
     "execution_count": 285,
     "metadata": {},
     "output_type": "execute_result"
    },
    {
     "data": {
      "image/png": "[encoded data removed]",
      "text/plain": [
       "<Figure size 640x480 with 1 Axes>"
      ]
     },
     "metadata": {},
     "output_type": "display_data"
    }
   ],
   "source": [
    "plt.plot(lri, lossi)"
   ]
  },
  {
   "cell_type": "markdown",
   "id": "8731350b-fd14-45ff-a319-2a9be2662a44",
   "metadata": {},
   "source": [
    "Based on the graph above, we can see that a good learning rate is somewhere around 0.1 (exponent of -1.0). \\\n",
    "Now let's reset the parameters one last time and run the training:"
   ]
  },
  {
   "cell_type": "code",
   "execution_count": 286,
   "id": "ede24c0c-7837-427b-a6d5-c8ae40afda67",
   "metadata": {},
   "outputs": [],
   "source": [
    "g = torch.Generator().manual_seed(76829343259483)\n",
    "C = torch.randn((27, 2), generator=g)\n",
    "W1 = torch.randn((6, 100), generator=g)\n",
    "b1 = torch.randn(100, generator=g)\n",
    "W2 = torch.randn((100, 27), generator=g)\n",
    "b2 = torch.randn(27, generator=g)\n",
    "parameters = [C, W1, b1, W2, b2]"
   ]
  },
  {
   "cell_type": "code",
   "execution_count": 287,
   "id": "8df75dfc-0ff4-43c6-b38d-4c876ac51038",
   "metadata": {},
   "outputs": [],
   "source": [
    "for p in parameters:\n",
    "    p.requires_grad = True"
   ]
  },
  {
   "cell_type": "code",
   "execution_count": 288,
   "id": "1300b17f-217e-407e-be2e-8adffc2a9889",
   "metadata": {},
   "outputs": [],
   "source": [
    "for i in range(10000):\n",
    "    idx = torch.randint(0, X.shape[0], (32,))\n",
    "\n",
    "    # forward pass\n",
    "    emb = C[X[idx]]\n",
    "    h = torch.tanh(emb.view(-1, 6) @ W1 + b1)\n",
    "    logits = h @ W2 + b2\n",
    "    loss = F.cross_entropy(logits, Y[idx])\n",
    "    \n",
    "    # backward pass\n",
    "    for p in parameters:\n",
    "        p.grad = None\n",
    "    loss.backward()\n",
    "    \n",
    "    # update\n",
    "    lr = 0.1\n",
    "    for p in parameters:\n",
    "        p.data += -lr * p.grad"
   ]
  },
  {
   "cell_type": "code",
   "execution_count": 289,
   "id": "885c8ce4-d764-4e00-a4a2-272fac8fbe22",
   "metadata": {},
   "outputs": [
    {
     "data": {
      "text/plain": [
       "tensor(2.4562, grad_fn=<NllLossBackward0>)"
      ]
     },
     "execution_count": 289,
     "metadata": {},
     "output_type": "execute_result"
    }
   ],
   "source": [
    "# loss of the whole dataset (not just the mini-batch)\n",
    "emb = C[X] \n",
    "h = torch.tanh(emb.view(-1, 6) @ W1 + b1) # (32, 100)\n",
    "logits = h @ W2 + b2 # (32, 27)\n",
    "loss = F.cross_entropy(logits, Y)\n",
    "loss"
   ]
  },
  {
   "cell_type": "markdown",
   "id": "5cd9d46a-d680-4464-9d21-aad83b550e11",
   "metadata": {},
   "source": [
    "After training the model with a learning rate of 0.1 multiple times, we perform a learning rate decay (use a lower learning rate, e.g. 0.01). \\\n",
    "Achieved a loss of 2.31, better than the previous bigram model. \\\n",
    "\n",
    "### Train/Validation/Test split\n",
    "We need to split the data into three groups to avoid overfitting on the training data:\n",
    "\n",
    "- Training split (~80%) - optimize the parameters of the model\n",
    "- Dev/validation split (~10%) - optimize the hyperparameters (e.g. the size of the embedding, hidden layer, regularization strength)\n",
    "- Test split (~10%) - evaluate the performance of the model"
   ]
  },
  {
   "cell_type": "code",
   "execution_count": 290,
   "id": "7574e67f-8b2c-4e44-a2a4-f701e52dd7ce",
   "metadata": {},
   "outputs": [
    {
     "name": "stdout",
     "output_type": "stream",
     "text": [
      "torch.Size([182625, 3]) torch.Size([182625])\n",
      "torch.Size([22655, 3]) torch.Size([22655])\n",
      "torch.Size([22866, 3]) torch.Size([22866])\n"
     ]
    }
   ],
   "source": [
    "import random\n",
    "random.seed(42)\n",
    "random.shuffle(words)\n",
    "n1, n2 = int(0.8*len(words)), int(0.9*len(words))\n",
    "\n",
    "Xtr, Ytr = build_dataset(words[:n1])\n",
    "Xval, Yval = build_dataset(words[n1:n2])\n",
    "Xte, Yte = build_dataset(words[n2:])"
   ]
  },
  {
   "cell_type": "code",
   "execution_count": 291,
   "id": "51905a46-31ca-4f88-be22-e8f306f25daf",
   "metadata": {},
   "outputs": [
    {
     "data": {
      "text/plain": [
       "(torch.Size([182625, 3]), torch.Size([182625]))"
      ]
     },
     "execution_count": 291,
     "metadata": {},
     "output_type": "execute_result"
    }
   ],
   "source": [
    "Xtr.shape, Ytr.shape"
   ]
  },
  {
   "cell_type": "code",
   "execution_count": 292,
   "id": "1ee7ae09-8fc5-4511-b426-db600eb67f40",
   "metadata": {},
   "outputs": [],
   "source": [
    "g = torch.Generator().manual_seed(76829343259483)\n",
    "C = torch.randn((27, 2), generator=g)\n",
    "W1 = torch.randn((6, 100), generator=g)\n",
    "b1 = torch.randn(100, generator=g)\n",
    "W2 = torch.randn((100, 27), generator=g)\n",
    "b2 = torch.randn(27, generator=g)\n",
    "parameters = [C, W1, b1, W2, b2]"
   ]
  },
  {
   "cell_type": "code",
   "execution_count": 293,
   "id": "b3cc30c1-431c-47f9-972b-83bc9a884643",
   "metadata": {},
   "outputs": [],
   "source": [
    "for p in parameters:\n",
    "    p.requires_grad = True"
   ]
  },
  {
   "cell_type": "code",
   "execution_count": 294,
   "id": "339be3ba-fd3f-46cd-a075-4ea841e44bd6",
   "metadata": {},
   "outputs": [],
   "source": [
    "for _ in range(110000):\n",
    "    \n",
    "    idx = torch.randint(0, Xtr.shape[0], (32,))\n",
    "    \n",
    "    # forward pass\n",
    "    emb = C[Xtr[idx]]\n",
    "    h = torch.tanh(emb.view(-1, 6) @ W1 + b1)\n",
    "    logits = h @ W2 + b2\n",
    "    loss = F.cross_entropy(logits, Ytr[idx])\n",
    "    \n",
    "    # backward pass\n",
    "    for p in parameters:\n",
    "        p.grad = None\n",
    "    loss.backward()\n",
    "    \n",
    "    # update\n",
    "    lr = 0.1 if i < 100000 else 0.01\n",
    "    for p in parameters:\n",
    "        p.data += -lr * p.grad"
   ]
  },
  {
   "cell_type": "code",
   "execution_count": 295,
   "id": "8b9202a5-4e70-4790-86a1-bf94afb9c1dc",
   "metadata": {},
   "outputs": [
    {
     "data": {
      "text/plain": [
       "tensor(2.3127, grad_fn=<NllLossBackward0>)"
      ]
     },
     "execution_count": 295,
     "metadata": {},
     "output_type": "execute_result"
    }
   ],
   "source": [
    "# evaluate the loss with the training set\n",
    "emb = C[Xtr]\n",
    "h = torch.tanh(emb.view(-1, 6) @ W1 + b1)\n",
    "logits = h @ W2 + b2\n",
    "loss = F.cross_entropy(logits, Ytr)\n",
    "loss"
   ]
  },
  {
   "cell_type": "code",
   "execution_count": 296,
   "id": "3c920d65-3653-42a2-929c-7a7215b0a574",
   "metadata": {},
   "outputs": [
    {
     "data": {
      "text/plain": [
       "tensor(2.3141, grad_fn=<NllLossBackward0>)"
      ]
     },
     "execution_count": 296,
     "metadata": {},
     "output_type": "execute_result"
    }
   ],
   "source": [
    "# evaluate the loss with the validation set\n",
    "emb = C[Xval]\n",
    "h = torch.tanh(emb.view(-1, 6) @ W1 + b1)\n",
    "logits = h @ W2 + b2\n",
    "loss = F.cross_entropy(logits, Yval)\n",
    "loss"
   ]
  },
  {
   "cell_type": "markdown",
   "id": "c84b4110-7689-4abd-b124-278f24ce9d76",
   "metadata": {},
   "source": [
    "I got 2.26 on training and 2.27 on validation set (after lr=0.1 on 100000 iterations and lr=0.01 on 10000 iterations). \\\n",
    "In this case, it's not overfitting and the neural net is also very small to memorize data. \\\n",
    "Then, I increased the hidden layer size from 100 to 300 and trained a bit more. Reduced the learning rate. Achieved a loss of 2.24 on training and 2.5 on validation set. \\\n",
    "Now let's visualize the embedding:"
   ]
  },
  {
   "cell_type": "code",
   "execution_count": 297,
   "id": "6eb965f7-bac9-4391-9436-cc1a38ce1c0b",
   "metadata": {},
   "outputs": [
    {
     "data": {
      "image/png": "[encoded data removed]",
      "text/plain": [
       "<Figure size 800x800 with 1 Axes>"
      ]
     },
     "metadata": {},
     "output_type": "display_data"
    }
   ],
   "source": [
    "plt.figure(figsize=(8,8))\n",
    "plt.scatter(C[:,0].data, C[:,1].data, s=200)\n",
    "for i in range(C.shape[0]):\n",
    "    plt.text(C[i,0].item(), C[i,1].item(), itos[i], ha=\"center\", va=\"center\", color=\"white\")\n",
    "plt.grid('minor')"
   ]
  },
  {
   "cell_type": "markdown",
   "id": "7631275b-a811-4410-8689-57fba0b6fab0",
   "metadata": {},
   "source": [
    "The embeddings make sense:\n",
    "- Vowels are clustered together <- the neural net treats them similarly.\n",
    "- What's up with j lol.\n",
    "- q is a special character.\n",
    "\n",
    "The loss didn't change much after increasing the hidden layer size, so maybe the problem is with the embedding space. I increased the dimension from 2 to 10 (so the hidden layer will take 30 inputs).\n",
    "\n",
    "After training the model 100000 times with a learning rate of 0.1 (and hidden layer size of 200), and then performing a learning rate decay and training 10000 times with a learning rate of 0.1, I achieved 2.13 on training and 2.16 on validation set. We're slowly starting to overfit."
   ]
  },
  {
   "cell_type": "markdown",
   "id": "0efe09eb-c6ce-4b68-b668-8084964c5190",
   "metadata": {},
   "source": [
    "### Sampling from the model"
   ]
  },
  {
   "cell_type": "code",
   "execution_count": 298,
   "id": "bb3319ce-56e7-4140-91b2-1c3a214ef7ef",
   "metadata": {},
   "outputs": [
    {
     "name": "stdout",
     "output_type": "stream",
     "text": [
      "nara.\n",
      "direnellere.\n",
      "gawycherysso.\n",
      "par.\n",
      "mylynn.\n",
      "dasol.\n",
      "nosse.\n",
      "gawirone.\n",
      "zykia.\n",
      "ashiesmesy.\n",
      "krairae.\n",
      "mama.\n",
      "toszi.\n",
      "zaya.\n",
      "bren.\n",
      "kalyn.\n",
      "aspo.\n",
      "shekha.\n",
      "ailea.\n",
      "hazesl.\n"
     ]
    }
   ],
   "source": [
    "g = torch.Generator().manual_seed(6789013249857)\n",
    "\n",
    "for _ in range(20):\n",
    "    out = []\n",
    "    context = [0] * block_size\n",
    "    while True:\n",
    "        emb = C[torch.tensor([context])]\n",
    "        h = torch.tanh(emb.view(1, -1) @ W1 + b1)\n",
    "        logits = h @ W2 + b2\n",
    "        probs = F.softmax(logits, dim=1)\n",
    "        idx = torch.multinomial(probs, num_samples=1, generator=g).item()\n",
    "        context = context[1:] + [idx]\n",
    "        out.append(idx)\n",
    "        if idx == 0:\n",
    "            break\n",
    "\n",
    "    print(''.join(itos[i] for i in out))"
   ]
  }
 ],
 "metadata": {
  "kernelspec": {
   "display_name": "Python 3 (ipykernel)",
   "language": "python",
   "name": "python3"
  },
  "language_info": {
   "codemirror_mode": {
    "name": "ipython",
    "version": 3
   },
   "file_extension": ".py",
   "mimetype": "text/x-python",
   "name": "python",
   "nbconvert_exporter": "python",
   "pygments_lexer": "ipython3",
   "version": "3.12.2"
  }
 },
 "nbformat": 4,
 "nbformat_minor": 5
}
