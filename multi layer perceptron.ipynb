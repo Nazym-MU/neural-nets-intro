{
 "cells": [
  {
   "cell_type": "code",
   "execution_count": 429,
   "id": "9357f6c0-58f8-4f53-85dc-2a12e07fc1a5",
   "metadata": {},
   "outputs": [],
   "source": [
    "import torch\n",
    "import random"
   ]
  },
  {
   "cell_type": "code",
   "execution_count": 430,
   "id": "dbec6f01-cd66-4984-ace7-95d626bd4edd",
   "metadata": {},
   "outputs": [],
   "source": [
    "%run micrograd.ipynb"
   ]
  },
  {
   "cell_type": "code",
   "execution_count": 431,
   "id": "fe0c8fbe-b8b7-49ea-ab42-3805b6dfc058",
   "metadata": {},
   "outputs": [
    {
     "name": "stdout",
     "output_type": "stream",
     "text": [
      "0.7071066904050358\n",
      "---\n",
      "x2 0.5000001283844369\n",
      "w2 0.0\n",
      "x1 -1.5000003851533106\n",
      "w2 0.0\n"
     ]
    }
   ],
   "source": [
    "%run 'neuron backprop'.ipynb"
   ]
  },
  {
   "cell_type": "markdown",
   "id": "67cc5371-d266-4dc2-8f6d-37f1cb8dbecd",
   "metadata": {},
   "source": [
    "Since we're pretty much clear about the simplified version of Value class and its operations, I've copied and pasted Andrej Karpathy's Value class with many different methods:"
   ]
  },
  {
   "cell_type": "code",
   "execution_count": 432,
   "id": "06fe9535-edad-415e-907e-c8f7a9b25160",
   "metadata": {},
   "outputs": [],
   "source": [
    "class Value:\n",
    "  \n",
    "  def __init__(self, data, _children=(), _op='', label=''):\n",
    "    self.data = data\n",
    "    self.grad = 0.0\n",
    "    self._backward = lambda: None\n",
    "    self._prev = set(_children)\n",
    "    self._op = _op\n",
    "    self.label = label\n",
    "\n",
    "  def __repr__(self):\n",
    "    return f\"Value(data={self.data})\"\n",
    "  \n",
    "  def __add__(self, other):\n",
    "    other = other if isinstance(other, Value) else Value(other)\n",
    "    out = Value(self.data + other.data, (self, other), '+')\n",
    "    \n",
    "    def _backward():\n",
    "      self.grad += 1.0 * out.grad\n",
    "      other.grad += 1.0 * out.grad\n",
    "    out._backward = _backward\n",
    "    \n",
    "    return out\n",
    "\n",
    "  def __mul__(self, other):\n",
    "    other = other if isinstance(other, Value) else Value(other)\n",
    "    out = Value(self.data * other.data, (self, other), '*')\n",
    "    \n",
    "    def _backward():\n",
    "      self.grad += other.data * out.grad\n",
    "      other.grad += self.data * out.grad\n",
    "    out._backward = _backward\n",
    "      \n",
    "    return out\n",
    "  \n",
    "  def __pow__(self, other):\n",
    "    assert isinstance(other, (int, float)), \"only supporting int/float powers for now\"\n",
    "    out = Value(self.data**other, (self,), f'**{other}')\n",
    "\n",
    "    def _backward():\n",
    "        self.grad += other * (self.data ** (other - 1)) * out.grad\n",
    "    out._backward = _backward\n",
    "\n",
    "    return out\n",
    "  \n",
    "  def __rmul__(self, other): # other * self\n",
    "    return self * other\n",
    "\n",
    "  def __truediv__(self, other): # self / other\n",
    "    return self * other**-1\n",
    "\n",
    "  def __neg__(self): # -self\n",
    "    return self * -1\n",
    "\n",
    "  def __sub__(self, other): # self - other\n",
    "    return self + (-other)\n",
    "\n",
    "  def __radd__(self, other): # other + self\n",
    "    return self + other\n",
    "\n",
    "  def tanh(self):\n",
    "    x = self.data\n",
    "    t = (math.exp(2*x) - 1)/(math.exp(2*x) + 1)\n",
    "    out = Value(t, (self, ), 'tanh')\n",
    "    \n",
    "    def _backward():\n",
    "      self.grad += (1 - t**2) * out.grad\n",
    "    out._backward = _backward\n",
    "    \n",
    "    return out\n",
    "  \n",
    "  def exp(self):\n",
    "    x = self.data\n",
    "    out = Value(math.exp(x), (self, ), 'exp')\n",
    "    \n",
    "    def _backward():\n",
    "      self.grad += out.data * out.grad # NOTE: in the video I incorrectly used = instead of +=. Fixed here.\n",
    "    out._backward = _backward\n",
    "    \n",
    "    return out\n",
    "  \n",
    "  \n",
    "  def backward(self):\n",
    "    \n",
    "    topo = []\n",
    "    visited = set()\n",
    "    def build_topo(v):\n",
    "      if v not in visited:\n",
    "        visited.add(v)\n",
    "        for child in v._prev:\n",
    "          build_topo(child)\n",
    "        topo.append(v)\n",
    "    build_topo(self)\n",
    "    \n",
    "    self.grad = 1.0\n",
    "    for node in reversed(topo):\n",
    "      node._backward()\n"
   ]
  },
  {
   "cell_type": "code",
   "execution_count": 433,
   "id": "d903056b-ec19-402e-8333-be3b86e44119",
   "metadata": {},
   "outputs": [
    {
     "data": {
      "text/plain": [
       "Value(data=-0.014906951105695721)"
      ]
     },
     "execution_count": 433,
     "metadata": {},
     "output_type": "execute_result"
    }
   ],
   "source": [
    "class Neuron:\n",
    "    def __init__(self, nin):\n",
    "        self.w = [Value(random.uniform(-1, 1)) for _ in range(nin)]\n",
    "        self.b = Value(random.uniform(-1, 1))\n",
    "\n",
    "    def __call__(self, x):\n",
    "        # w * x + b\n",
    "        act = sum((wi*xi for wi, xi in zip(self.w, x)), self.b)\n",
    "        out = act.tanh()\n",
    "        return out\n",
    "\n",
    "    def parameters(self):\n",
    "        return self.w + [self.b]\n",
    "\n",
    "x = [2.0, 3.0]\n",
    "n = Neuron(2)\n",
    "n(x)"
   ]
  },
  {
   "cell_type": "code",
   "execution_count": 434,
   "id": "1832d17a-3602-4d1e-b379-eec2031eceb3",
   "metadata": {},
   "outputs": [
    {
     "data": {
      "text/plain": [
       "[Value(data=0.9930293209061191),\n",
       " Value(data=-0.9117194617598063),\n",
       " Value(data=-0.9991160666458824)]"
      ]
     },
     "execution_count": 434,
     "metadata": {},
     "output_type": "execute_result"
    }
   ],
   "source": [
    "class Layer:\n",
    "    def __init__(self, nin, nout):\n",
    "        self.neurons = [Neuron(nin) for _ in range(nout)]\n",
    "\n",
    "    def __call__(self, x):\n",
    "        outs = [n(x) for n in self.neurons]\n",
    "        return outs[0] if len(outs) == 1 else outs\n",
    "\n",
    "    def parameters(self):\n",
    "        return [p for neuron in self.neurons for p in neuron.parameters()]\n",
    "        \n",
    "layer = Layer(2, 3)\n",
    "layer(x)"
   ]
  },
  {
   "cell_type": "code",
   "execution_count": 435,
   "id": "d402aa12-ed13-483b-935d-674a486a2b22",
   "metadata": {},
   "outputs": [],
   "source": [
    "class MLP:\n",
    "    def __init__(self, nin, nouts):\n",
    "        sz = [nin] + nouts\n",
    "        self.layers = [Layer(sz[i], sz[i+1]) for i in range(len(nouts))]\n",
    "\n",
    "    def __call__(self, x):\n",
    "        for layer in self.layers:\n",
    "            x = layer(x)\n",
    "        return x\n",
    "\n",
    "    def parameters(self):\n",
    "        return [p for layer in self.layers for p in layer.parameters()]"
   ]
  },
  {
   "cell_type": "code",
   "execution_count": 436,
   "id": "b00a35cd-a4de-4b96-b53f-8f18b37d900e",
   "metadata": {},
   "outputs": [
    {
     "data": {
      "text/plain": [
       "Value(data=-0.3048178445501472)"
      ]
     },
     "execution_count": 436,
     "metadata": {},
     "output_type": "execute_result"
    }
   ],
   "source": [
    "mlp = MLP(2, [4, 4, 1])\n",
    "mlp(x)"
   ]
  },
  {
   "cell_type": "markdown",
   "id": "a88481d1-1a7d-4795-9208-0c8922b766a3",
   "metadata": {},
   "source": [
    "Example dataset:"
   ]
  },
  {
   "cell_type": "code",
   "execution_count": 437,
   "id": "073e33b8-582c-43ae-9642-8ab8051be289",
   "metadata": {},
   "outputs": [
    {
     "data": {
      "text/plain": [
       "[Value(data=-0.3048178445501472),\n",
       " Value(data=-0.17667670970230331),\n",
       " Value(data=-0.33735027622841446),\n",
       " Value(data=-0.4160243061003608)]"
      ]
     },
     "execution_count": 437,
     "metadata": {},
     "output_type": "execute_result"
    }
   ],
   "source": [
    "xs = [\n",
    "    [2.0, 3.0, -1.0],\n",
    "    [3.0, -1.0, 0.5],\n",
    "    [0.5, 1.0, 1.0],\n",
    "    [1.0, 1.0, -1.0]\n",
    "]\n",
    "ys = [1.0, -1.0, -1.0, 1.0] # desired targets\n",
    "ypred = [mlp(x) for x in xs]\n",
    "ypred"
   ]
  },
  {
   "cell_type": "code",
   "execution_count": 438,
   "id": "b0ab9bb3-c0db-4ec6-ac7b-69eb4ac97742",
   "metadata": {},
   "outputs": [
    {
     "data": {
      "text/plain": [
       "Value(data=4.824640339684684)"
      ]
     },
     "execution_count": 438,
     "metadata": {},
     "output_type": "execute_result"
    }
   ],
   "source": [
    "# mean squared error loss\n",
    "# pairing up output and ground truth ys: (y_out - y_gt)^2\n",
    "loss = sum((yout - ygt)**2 for ygt, yout in zip(ys, ypred))\n",
    "loss"
   ]
  },
  {
   "cell_type": "code",
   "execution_count": 439,
   "id": "5da88cfc-d1ae-4be2-a856-21c804d4fc6a",
   "metadata": {},
   "outputs": [],
   "source": [
    "loss.backward()"
   ]
  },
  {
   "cell_type": "code",
   "execution_count": 440,
   "id": "bd5b2238-df7b-45bd-b9db-102ea9a9d432",
   "metadata": {},
   "outputs": [
    {
     "data": {
      "text/plain": [
       "-0.7231866862331077"
      ]
     },
     "execution_count": 440,
     "metadata": {},
     "output_type": "execute_result"
    }
   ],
   "source": [
    "mlp.layers[0].neurons[0].w[0].grad\n",
    "# gradient of a particular weight of a particular neuron of a particular layer is positive (+0.3), its influence on the loss is also positive.\n",
    "# increasing it will increase the loss\n",
    "# note: the parameters are reinitialized on each run, so the result of the loss might look different"
   ]
  },
  {
   "cell_type": "code",
   "execution_count": 441,
   "id": "6363f0ae-9a70-4817-96de-03f3bb2cc784",
   "metadata": {},
   "outputs": [],
   "source": [
    "# draw_dot(loss)"
   ]
  },
  {
   "cell_type": "code",
   "execution_count": 442,
   "id": "1bc92616-8b1f-417f-9e32-6c960d362fa4",
   "metadata": {},
   "outputs": [
    {
     "data": {
      "text/plain": [
       "Value(data=4.824640339684684)"
      ]
     },
     "execution_count": 442,
     "metadata": {},
     "output_type": "execute_result"
    }
   ],
   "source": [
    "ypred = [mlp(x) for x in xs]\n",
    "loss = sum((yout - ygt)**2 for ygt, yout in zip(ys, ypred))\n",
    "loss"
   ]
  },
  {
   "cell_type": "code",
   "execution_count": 443,
   "id": "553e68a3-8b38-4ae1-94d6-716d8bb2e136",
   "metadata": {},
   "outputs": [
    {
     "data": {
      "text/plain": [
       "Value(data=4.824640339684684)"
      ]
     },
     "execution_count": 443,
     "metadata": {},
     "output_type": "execute_result"
    }
   ],
   "source": [
    "ypred = [mlp(x) for x in xs]\n",
    "loss = sum((yout - ygt)**2 for ygt, yout in zip(ys, ypred))\n",
    "loss"
   ]
  },
  {
   "cell_type": "code",
   "execution_count": 444,
   "id": "1b45e811-1e1d-4655-b2c8-949a5c89cb0b",
   "metadata": {},
   "outputs": [],
   "source": [
    "for p in n.parameters():\n",
    "    p.grad = 0.0"
   ]
  },
  {
   "cell_type": "code",
   "execution_count": 445,
   "id": "2dd437c2-80e4-466a-98b2-f5cfb85ee028",
   "metadata": {},
   "outputs": [],
   "source": [
    "loss.backward()"
   ]
  },
  {
   "cell_type": "code",
   "execution_count": 446,
   "id": "0995559a-44a1-4ce9-bd01-ebca44532e3a",
   "metadata": {},
   "outputs": [],
   "source": [
    "for p in mlp.parameters():\n",
    "    p.data += -0.001 * p.grad"
   ]
  },
  {
   "cell_type": "code",
   "execution_count": 447,
   "id": "90158498-2de3-4c45-b1cf-681d68fa6600",
   "metadata": {},
   "outputs": [
    {
     "data": {
      "text/plain": [
       "[Value(data=-0.3048178445501472),\n",
       " Value(data=-0.17667670970230331),\n",
       " Value(data=-0.33735027622841446),\n",
       " Value(data=-0.4160243061003608)]"
      ]
     },
     "execution_count": 447,
     "metadata": {},
     "output_type": "execute_result"
    }
   ],
   "source": [
    "ypred"
   ]
  },
  {
   "cell_type": "markdown",
   "id": "b62b3591-7f4b-4866-b0bd-0a3de1ff6ee1",
   "metadata": {},
   "source": [
    "I have the original predicted values, and what I did is I completed the forward pass, backpropagated, and updated the weights.\\\n",
    "So run the forward pass -> set the gradient back to zero (so that we don't add up the gradients) -> loss.backward() -> nudge the weigths in a certain direction to minimize loss.\\\n",
    "Repeat the process multiple times until the minimal loss is achieved. I also updated the step from 0.1 to 0.01 to 0.001 as the loss got lower so that I don't overstep the local minimum."
   ]
  },
  {
   "cell_type": "code",
   "execution_count": 450,
   "id": "e129cc23-faaa-4141-a46d-e0c2fbb4bad0",
   "metadata": {},
   "outputs": [
    {
     "name": "stdout",
     "output_type": "stream",
     "text": [
      "0 1.1642184757352596\n",
      "1 1.6327260616127368\n",
      "2 1.5979802911404664\n",
      "3 1.8849368120100622\n",
      "4 1.232718456801852\n",
      "5 1.5164501885621249\n",
      "6 1.4230434454300425\n",
      "7 1.588452319928603\n",
      "8 1.288452960454221\n",
      "9 1.350640771725211\n",
      "10 1.2266320180028263\n",
      "11 1.2028651569387827\n",
      "12 1.0876153740932795\n",
      "13 0.959662647491746\n",
      "14 0.777270771967605\n",
      "15 0.4601503736540231\n",
      "16 0.170292416192645\n",
      "17 0.09410244805421031\n",
      "18 0.08664571240327608\n",
      "19 0.08089408925723507\n"
     ]
    }
   ],
   "source": [
    "# With loops:\n",
    "\n",
    "for k in range(20):\n",
    "\n",
    "    # forward pass\n",
    "    ypred = [mlp(x) for x in xs]\n",
    "    loss = sum((yout - ygt)**2 for ygt, yout in zip(ys, ypred))\n",
    "\n",
    "    # backward pass\n",
    "    for p in mlp.parameters():\n",
    "        p.grad = 0.0\n",
    "    loss.backward()\n",
    "\n",
    "    # update\n",
    "    for p in mlp.parameters():\n",
    "        p.data += -0.05 * p.grad\n",
    "\n",
    "    print(k, loss.data)"
   ]
  },
  {
   "cell_type": "code",
   "execution_count": 451,
   "id": "b1bf939c-5840-4ad5-be35-30f5d0364c91",
   "metadata": {},
   "outputs": [
    {
     "data": {
      "text/plain": [
       "[Value(data=0.9579623825155305),\n",
       " Value(data=-0.8722419169855368),\n",
       " Value(data=-0.8307540499263738),\n",
       " Value(data=0.8151741127936629)]"
      ]
     },
     "execution_count": 451,
     "metadata": {},
     "output_type": "execute_result"
    }
   ],
   "source": [
    "ypred"
   ]
  }
 ],
 "metadata": {
  "kernelspec": {
   "display_name": "Python 3 (ipykernel)",
   "language": "python",
   "name": "python3"
  },
  "language_info": {
   "codemirror_mode": {
    "name": "ipython",
    "version": 3
   },
   "file_extension": ".py",
   "mimetype": "text/x-python",
   "name": "python",
   "nbconvert_exporter": "python",
   "pygments_lexer": "ipython3",
   "version": "3.12.2"
  }
 },
 "nbformat": 4,
 "nbformat_minor": 5
}
