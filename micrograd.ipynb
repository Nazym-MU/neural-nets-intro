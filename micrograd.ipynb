{
 "cells": [
  {
   "cell_type": "markdown",
   "id": "8d94d573-4c3d-4579-8d2a-13d07575078f",
   "metadata": {},
   "source": [
    "Autograd - implements backpropagation (algorithm that efficiently evaluates the gradient of a loss function with respect to the weights). \n",
    "We can use it to tune the weights to minimize the loss."
   ]
  },
  {
   "cell_type": "code",
   "execution_count": 26,
   "id": "f5dd900d-618b-4cf3-8ad1-a98e49090b93",
   "metadata": {},
   "outputs": [],
   "source": [
    "import math\n",
    "import numpy as np\n",
    "import matplotlib.pyplot as plt\n",
    "%matplotlib inline"
   ]
  },
  {
   "cell_type": "markdown",
   "id": "f33e595f-3a53-4d17-8ae2-50ddb94601bd",
   "metadata": {},
   "source": [
    "The value object:"
   ]
  },
  {
   "cell_type": "code",
   "execution_count": 27,
   "id": "ffbb4877-4296-4266-85d3-975acee5ddb0",
   "metadata": {},
   "outputs": [],
   "source": [
    "class Value:\n",
    "    def __init__(self, data):\n",
    "        self.data = data\n",
    "    def __repr__(self):\n",
    "        return f\"Value(data={self.data})\"\n",
    "    def __add__(self, other):\n",
    "        return Value(self.data + other.data)\n",
    "    # so when we add a + b, Python will internally call a.__add__(b)\n",
    "    def __mul__(self, other):\n",
    "        return Value(self.data * other.data)"
   ]
  },
  {
   "cell_type": "markdown",
   "id": "c78202d5-c5e1-4e86-9f62-53ffa97bc881",
   "metadata": {},
   "source": [
    "To not overcomplicate the code above, I'm going to copy and paste it in another cell and modify:"
   ]
  },
  {
   "cell_type": "code",
   "execution_count": 28,
   "id": "2219dd02-70b6-4127-8353-6549d3024f48",
   "metadata": {},
   "outputs": [],
   "source": [
    "# To visualize:\n",
    "class Value:\n",
    "    # private empty tuple\n",
    "    # now when we create a value object, children will be empty and prev will be empty set\n",
    "    def __init__(self, data, _children=()):\n",
    "        self.data = data\n",
    "        self._prev = set(_children)\n",
    "            \n",
    "    def __repr__(self):\n",
    "        return f\"Value(data={self.data})\"\n",
    "\n",
    "    # when we multiply, the children will be a tuple consisting of self and other\n",
    "    def __add__(self, other):\n",
    "        return Value(self.data + other.data, (self, other))\n",
    "        \n",
    "    def __mul__(self, other):\n",
    "        return Value(self.data * other.data, (self, other))"
   ]
  },
  {
   "cell_type": "code",
   "execution_count": 29,
   "id": "7e8417a2-bc2a-48a2-b2e9-61d2add84149",
   "metadata": {},
   "outputs": [
    {
     "data": {
      "text/plain": [
       "{Value(data=-3.0), Value(data=2.0)}"
      ]
     },
     "execution_count": 29,
     "metadata": {},
     "output_type": "execute_result"
    }
   ],
   "source": [
    "a = Value(2.0)\n",
    "b = Value(-3.0)\n",
    "c = a * b\n",
    "c._prev"
   ]
  },
  {
   "cell_type": "markdown",
   "id": "6239dcb1-fc56-4897-bfa0-309953b39b08",
   "metadata": {},
   "source": [
    "We know the children but don't know the operation that created it, so we modify the class again:"
   ]
  },
  {
   "cell_type": "code",
   "execution_count": 30,
   "id": "b130453d-2d93-487f-bf3f-a7fa8087b2e6",
   "metadata": {},
   "outputs": [],
   "source": [
    "class Value:\n",
    "    \n",
    "    def __init__(self, data, _children=(), _op='', label=''): # by default an empty string\n",
    "        self.data = data\n",
    "        self._prev = set(_children)\n",
    "        self._op = _op\n",
    "        self.label = label\n",
    "            \n",
    "    def __repr__(self):\n",
    "        return f\"Value(data={self.data})\"\n",
    "\n",
    "    def __add__(self, other):\n",
    "        return Value(self.data + other.data, (self, other), '+')\n",
    "        \n",
    "    def __mul__(self, other):\n",
    "        return Value(self.data * other.data, (self, other), '*')"
   ]
  },
  {
   "cell_type": "code",
   "execution_count": 31,
   "id": "eb322d07-7ee1-4e9a-a02c-ee6d540afc23",
   "metadata": {},
   "outputs": [
    {
     "data": {
      "text/plain": [
       "'*'"
      ]
     },
     "execution_count": 31,
     "metadata": {},
     "output_type": "execute_result"
    }
   ],
   "source": [
    "a = Value(2.0, label='a')\n",
    "b = Value(-3.0, label='b')\n",
    "c = a * b; c.label = 'c'\n",
    "c._op"
   ]
  },
  {
   "cell_type": "markdown",
   "id": "348d7999-3727-45fe-8969-e4bd036152d5",
   "metadata": {},
   "source": [
    "VISUALIZATION PART:"
   ]
  },
  {
   "cell_type": "code",
   "execution_count": 32,
   "id": "dd89a299-e6ea-4a23-a0ae-1f38d1ce7061",
   "metadata": {},
   "outputs": [],
   "source": [
    "from graphviz import Digraph\n",
    "\n",
    "def trace(root): # build a set of all nodes and edjes in a graph\n",
    "    nodes, edges = set(), set()\n",
    "    def build(v):\n",
    "        if v not in nodes:\n",
    "            nodes.add(v)\n",
    "            for child in v._prev:\n",
    "                edges.add((child, v))\n",
    "                build(child)\n",
    "    build(root)\n",
    "    return nodes, edges\n",
    "\n",
    "def draw_dot(root):\n",
    "    dot = Digraph(format='svg', graph_attr={'rankdir': 'LR'}) # LR meaning left to right\n",
    "    nodes, edges = trace(root)\n",
    "    for n in nodes:\n",
    "        uid = str(id(n))\n",
    "        # for any value in the graph, create a rectangular node for it\n",
    "        dot.node(name = uid, label = \"{ %s | data %.4f}\" % (n.label, n.data), shape='record')\n",
    "        if n._op: # if the value is the result of some operation, create an op node for it\n",
    "            dot.node(name = uid + n._op, label = n._op)\n",
    "            dot.edge(uid + n._op, uid)\n",
    "            \n",
    "    for n1, n2 in edges:\n",
    "        dot.edge(str(id(n1)), str(id(n2)) + n2._op)\n",
    "        \n",
    "    return dot\n",
    "\n",
    "# We basically create special node objects using .node() and edges using .edge"
   ]
  },
  {
   "cell_type": "code",
   "execution_count": 33,
   "id": "7968ca2a-4eab-4c66-b32f-67c2ec6b3896",
   "metadata": {},
   "outputs": [
    {
     "data": {
      "image/svg+xml": [
       "<?xml version=\"1.0\" encoding=\"UTF-8\" standalone=\"no\"?>\n",
       "<!DOCTYPE svg PUBLIC \"-//W3C//DTD SVG 1.1//EN\"\n",
       " \"http://www.w3.org/Graphics/SVG/1.1/DTD/svg11.dtd\">\n",
       "<!-- Generated by graphviz version 13.1.0 (20250701.0955)\n",
       " -->\n",
       "<!-- Pages: 1 -->\n",
       "<svg width=\"347pt\" height=\"100pt\"\n",
       " viewBox=\"0.00 0.00 347.00 100.00\" xmlns=\"http://www.w3.org/2000/svg\" xmlns:xlink=\"http://www.w3.org/1999/xlink\">\n",
       "<g id=\"graph0\" class=\"graph\" transform=\"scale(1 1) rotate(0) translate(4 96)\">\n",
       "<polygon fill=\"white\" stroke=\"none\" points=\"-4,4 -4,-96 343.25,-96 343.25,4 -4,4\"/>\n",
       "<!-- 4459426592 -->\n",
       "<g id=\"node1\" class=\"node\">\n",
       "<title>4459426592</title>\n",
       "<polygon fill=\"none\" stroke=\"black\" points=\"233,-27.5 233,-63.5 339.25,-63.5 339.25,-27.5 233,-27.5\"/>\n",
       "<text xml:space=\"preserve\" text-anchor=\"middle\" x=\"244\" y=\"-40.7\" font-family=\"Times,serif\" font-size=\"14.00\">c</text>\n",
       "<polyline fill=\"none\" stroke=\"black\" points=\"255,-28 255,-63.5\"/>\n",
       "<text xml:space=\"preserve\" text-anchor=\"middle\" x=\"297.12\" y=\"-40.7\" font-family=\"Times,serif\" font-size=\"14.00\">data &#45;6.0000</text>\n",
       "</g>\n",
       "<!-- 4459426592* -->\n",
       "<g id=\"node2\" class=\"node\">\n",
       "<title>4459426592*</title>\n",
       "<ellipse fill=\"none\" stroke=\"black\" cx=\"170\" cy=\"-45.5\" rx=\"27\" ry=\"18\"/>\n",
       "<text xml:space=\"preserve\" text-anchor=\"middle\" x=\"170\" y=\"-40.45\" font-family=\"Times,serif\" font-size=\"14.00\">*</text>\n",
       "</g>\n",
       "<!-- 4459426592*&#45;&gt;4459426592 -->\n",
       "<g id=\"edge1\" class=\"edge\">\n",
       "<title>4459426592*&#45;&gt;4459426592</title>\n",
       "<path fill=\"none\" stroke=\"black\" d=\"M197.47,-45.5C204.71,-45.5 212.89,-45.5 221.26,-45.5\"/>\n",
       "<polygon fill=\"black\" stroke=\"black\" points=\"221.23,-49 231.23,-45.5 221.23,-42 221.23,-49\"/>\n",
       "</g>\n",
       "<!-- 4456681392 -->\n",
       "<g id=\"node3\" class=\"node\">\n",
       "<title>4456681392</title>\n",
       "<polygon fill=\"none\" stroke=\"black\" points=\"0,-55.5 0,-91.5 107,-91.5 107,-55.5 0,-55.5\"/>\n",
       "<text xml:space=\"preserve\" text-anchor=\"middle\" x=\"11.38\" y=\"-68.7\" font-family=\"Times,serif\" font-size=\"14.00\">b</text>\n",
       "<polyline fill=\"none\" stroke=\"black\" points=\"22.75,-56 22.75,-91.5\"/>\n",
       "<text xml:space=\"preserve\" text-anchor=\"middle\" x=\"64.88\" y=\"-68.7\" font-family=\"Times,serif\" font-size=\"14.00\">data &#45;3.0000</text>\n",
       "</g>\n",
       "<!-- 4456681392&#45;&gt;4459426592* -->\n",
       "<g id=\"edge3\" class=\"edge\">\n",
       "<title>4456681392&#45;&gt;4459426592*</title>\n",
       "<path fill=\"none\" stroke=\"black\" d=\"M107.39,-60.57C116.15,-58.42 125.05,-56.25 133.26,-54.24\"/>\n",
       "<polygon fill=\"black\" stroke=\"black\" points=\"133.97,-57.67 142.85,-51.89 132.3,-50.87 133.97,-57.67\"/>\n",
       "</g>\n",
       "<!-- 4553970544 -->\n",
       "<g id=\"node4\" class=\"node\">\n",
       "<title>4553970544</title>\n",
       "<polygon fill=\"none\" stroke=\"black\" points=\"2.62,-0.5 2.62,-36.5 104.38,-36.5 104.38,-0.5 2.62,-0.5\"/>\n",
       "<text xml:space=\"preserve\" text-anchor=\"middle\" x=\"13.62\" y=\"-13.7\" font-family=\"Times,serif\" font-size=\"14.00\">a</text>\n",
       "<polyline fill=\"none\" stroke=\"black\" points=\"24.62,-1 24.62,-36.5\"/>\n",
       "<text xml:space=\"preserve\" text-anchor=\"middle\" x=\"64.5\" y=\"-13.7\" font-family=\"Times,serif\" font-size=\"14.00\">data 2.0000</text>\n",
       "</g>\n",
       "<!-- 4553970544&#45;&gt;4459426592* -->\n",
       "<g id=\"edge2\" class=\"edge\">\n",
       "<title>4553970544&#45;&gt;4459426592*</title>\n",
       "<path fill=\"none\" stroke=\"black\" d=\"M104.72,-30.34C114.16,-32.57 123.86,-34.86 132.78,-36.96\"/>\n",
       "<polygon fill=\"black\" stroke=\"black\" points=\"131.94,-40.36 142.48,-39.25 133.55,-33.54 131.94,-40.36\"/>\n",
       "</g>\n",
       "</g>\n",
       "</svg>\n"
      ],
      "text/plain": [
       "<graphviz.graphs.Digraph at 0x10f70aa80>"
      ]
     },
     "execution_count": 33,
     "metadata": {},
     "output_type": "execute_result"
    }
   ],
   "source": [
    "draw_dot(c)"
   ]
  },
  {
   "cell_type": "code",
   "execution_count": 34,
   "id": "32f26c14-197d-4388-9bb2-eec3a435bbb7",
   "metadata": {},
   "outputs": [
    {
     "data": {
      "text/plain": [
       "Value(data=-8.0)"
      ]
     },
     "execution_count": 34,
     "metadata": {},
     "output_type": "execute_result"
    }
   ],
   "source": [
    "# Make it more complicated:\n",
    "a = Value(2.0, label='a')\n",
    "b = Value(-3.0, label='b')\n",
    "c = Value(10.0, label='c')\n",
    "e = a*b; e.label = 'e'\n",
    "d = e + c; d.label = 'd'\n",
    "f = Value(-2.0, label = 'f')\n",
    "L = d * f\n",
    "L.label = 'L'\n",
    "L"
   ]
  },
  {
   "cell_type": "code",
   "execution_count": 35,
   "id": "cf0f41f1-88ea-4317-b162-057915fc411c",
   "metadata": {},
   "outputs": [
    {
     "data": {
      "image/svg+xml": [
       "<?xml version=\"1.0\" encoding=\"UTF-8\" standalone=\"no\"?>\n",
       "<!DOCTYPE svg PUBLIC \"-//W3C//DTD SVG 1.1//EN\"\n",
       " \"http://www.w3.org/Graphics/SVG/1.1/DTD/svg11.dtd\">\n",
       "<!-- Generated by graphviz version 13.1.0 (20250701.0955)\n",
       " -->\n",
       "<!-- Pages: 1 -->\n",
       "<svg width=\"815pt\" height=\"154pt\"\n",
       " viewBox=\"0.00 0.00 815.00 154.00\" xmlns=\"http://www.w3.org/2000/svg\" xmlns:xlink=\"http://www.w3.org/1999/xlink\">\n",
       "<g id=\"graph0\" class=\"graph\" transform=\"scale(1 1) rotate(0) translate(4 150)\">\n",
       "<polygon fill=\"white\" stroke=\"none\" points=\"-4,4 -4,-150 810.75,-150 810.75,4 -4,4\"/>\n",
       "<!-- 4554012816 -->\n",
       "<g id=\"node1\" class=\"node\">\n",
       "<title>4554012816</title>\n",
       "<polygon fill=\"none\" stroke=\"black\" points=\"467.5,-109.5 467.5,-145.5 572.25,-145.5 572.25,-109.5 467.5,-109.5\"/>\n",
       "<text xml:space=\"preserve\" text-anchor=\"middle\" x=\"477.75\" y=\"-122.7\" font-family=\"Times,serif\" font-size=\"14.00\">f</text>\n",
       "<polyline fill=\"none\" stroke=\"black\" points=\"488,-110 488,-145.5\"/>\n",
       "<text xml:space=\"preserve\" text-anchor=\"middle\" x=\"530.12\" y=\"-122.7\" font-family=\"Times,serif\" font-size=\"14.00\">data &#45;2.0000</text>\n",
       "</g>\n",
       "<!-- 4554007872* -->\n",
       "<g id=\"node3\" class=\"node\">\n",
       "<title>4554007872*</title>\n",
       "<ellipse fill=\"none\" stroke=\"black\" cx=\"635.25\" cy=\"-99.5\" rx=\"27\" ry=\"18\"/>\n",
       "<text xml:space=\"preserve\" text-anchor=\"middle\" x=\"635.25\" y=\"-94.45\" font-family=\"Times,serif\" font-size=\"14.00\">*</text>\n",
       "</g>\n",
       "<!-- 4554012816&#45;&gt;4554007872* -->\n",
       "<g id=\"edge8\" class=\"edge\">\n",
       "<title>4554012816&#45;&gt;4554007872*</title>\n",
       "<path fill=\"none\" stroke=\"black\" d=\"M572.59,-114.73C581.32,-112.57 590.21,-110.38 598.42,-108.35\"/>\n",
       "<polygon fill=\"black\" stroke=\"black\" points=\"599.16,-111.77 608.02,-105.98 597.48,-104.98 599.16,-111.77\"/>\n",
       "</g>\n",
       "<!-- 4554007872 -->\n",
       "<g id=\"node2\" class=\"node\">\n",
       "<title>4554007872</title>\n",
       "<polygon fill=\"none\" stroke=\"black\" points=\"698.25,-81.5 698.25,-117.5 806.75,-117.5 806.75,-81.5 698.25,-81.5\"/>\n",
       "<text xml:space=\"preserve\" text-anchor=\"middle\" x=\"710.38\" y=\"-94.7\" font-family=\"Times,serif\" font-size=\"14.00\">L</text>\n",
       "<polyline fill=\"none\" stroke=\"black\" points=\"722.5,-82 722.5,-117.5\"/>\n",
       "<text xml:space=\"preserve\" text-anchor=\"middle\" x=\"764.62\" y=\"-94.7\" font-family=\"Times,serif\" font-size=\"14.00\">data &#45;8.0000</text>\n",
       "</g>\n",
       "<!-- 4554007872*&#45;&gt;4554007872 -->\n",
       "<g id=\"edge1\" class=\"edge\">\n",
       "<title>4554007872*&#45;&gt;4554007872</title>\n",
       "<path fill=\"none\" stroke=\"black\" d=\"M662.69,-99.5C669.91,-99.5 678.06,-99.5 686.43,-99.5\"/>\n",
       "<polygon fill=\"black\" stroke=\"black\" points=\"686.39,-103 696.39,-99.5 686.39,-96 686.39,-103\"/>\n",
       "</g>\n",
       "<!-- 4553999184 -->\n",
       "<g id=\"node4\" class=\"node\">\n",
       "<title>4553999184</title>\n",
       "<polygon fill=\"none\" stroke=\"black\" points=\"233,-82.5 233,-118.5 341.5,-118.5 341.5,-82.5 233,-82.5\"/>\n",
       "<text xml:space=\"preserve\" text-anchor=\"middle\" x=\"244\" y=\"-95.7\" font-family=\"Times,serif\" font-size=\"14.00\">c</text>\n",
       "<polyline fill=\"none\" stroke=\"black\" points=\"255,-83 255,-118.5\"/>\n",
       "<text xml:space=\"preserve\" text-anchor=\"middle\" x=\"298.25\" y=\"-95.7\" font-family=\"Times,serif\" font-size=\"14.00\">data 10.0000</text>\n",
       "</g>\n",
       "<!-- 4554003888+ -->\n",
       "<g id=\"node8\" class=\"node\">\n",
       "<title>4554003888+</title>\n",
       "<ellipse fill=\"none\" stroke=\"black\" cx=\"404.5\" cy=\"-72.5\" rx=\"27\" ry=\"18\"/>\n",
       "<text xml:space=\"preserve\" text-anchor=\"middle\" x=\"404.5\" y=\"-67.45\" font-family=\"Times,serif\" font-size=\"14.00\">+</text>\n",
       "</g>\n",
       "<!-- 4553999184&#45;&gt;4554003888+ -->\n",
       "<g id=\"edge5\" class=\"edge\">\n",
       "<title>4553999184&#45;&gt;4554003888+</title>\n",
       "<path fill=\"none\" stroke=\"black\" d=\"M341.83,-87.48C350.54,-85.37 359.37,-83.22 367.53,-81.24\"/>\n",
       "<polygon fill=\"black\" stroke=\"black\" points=\"368.16,-84.69 377.05,-78.93 366.51,-77.89 368.16,-84.69\"/>\n",
       "</g>\n",
       "<!-- 4553972032 -->\n",
       "<g id=\"node5\" class=\"node\">\n",
       "<title>4553972032</title>\n",
       "<polygon fill=\"none\" stroke=\"black\" points=\"2.62,-55.5 2.62,-91.5 104.38,-91.5 104.38,-55.5 2.62,-55.5\"/>\n",
       "<text xml:space=\"preserve\" text-anchor=\"middle\" x=\"13.62\" y=\"-68.7\" font-family=\"Times,serif\" font-size=\"14.00\">a</text>\n",
       "<polyline fill=\"none\" stroke=\"black\" points=\"24.62,-56 24.62,-91.5\"/>\n",
       "<text xml:space=\"preserve\" text-anchor=\"middle\" x=\"64.5\" y=\"-68.7\" font-family=\"Times,serif\" font-size=\"14.00\">data 2.0000</text>\n",
       "</g>\n",
       "<!-- 4554002928* -->\n",
       "<g id=\"node10\" class=\"node\">\n",
       "<title>4554002928*</title>\n",
       "<ellipse fill=\"none\" stroke=\"black\" cx=\"170\" cy=\"-45.5\" rx=\"27\" ry=\"18\"/>\n",
       "<text xml:space=\"preserve\" text-anchor=\"middle\" x=\"170\" y=\"-40.45\" font-family=\"Times,serif\" font-size=\"14.00\">*</text>\n",
       "</g>\n",
       "<!-- 4553972032&#45;&gt;4554002928* -->\n",
       "<g id=\"edge9\" class=\"edge\">\n",
       "<title>4553972032&#45;&gt;4554002928*</title>\n",
       "<path fill=\"none\" stroke=\"black\" d=\"M104.72,-61.22C114.35,-58.86 124.26,-56.44 133.32,-54.23\"/>\n",
       "<polygon fill=\"black\" stroke=\"black\" points=\"133.9,-57.69 142.78,-51.91 132.24,-50.89 133.9,-57.69\"/>\n",
       "</g>\n",
       "<!-- 4554006912 -->\n",
       "<g id=\"node6\" class=\"node\">\n",
       "<title>4554006912</title>\n",
       "<polygon fill=\"none\" stroke=\"black\" points=\"0,-0.5 0,-36.5 107,-36.5 107,-0.5 0,-0.5\"/>\n",
       "<text xml:space=\"preserve\" text-anchor=\"middle\" x=\"11.38\" y=\"-13.7\" font-family=\"Times,serif\" font-size=\"14.00\">b</text>\n",
       "<polyline fill=\"none\" stroke=\"black\" points=\"22.75,-1 22.75,-36.5\"/>\n",
       "<text xml:space=\"preserve\" text-anchor=\"middle\" x=\"64.88\" y=\"-13.7\" font-family=\"Times,serif\" font-size=\"14.00\">data &#45;3.0000</text>\n",
       "</g>\n",
       "<!-- 4554006912&#45;&gt;4554002928* -->\n",
       "<g id=\"edge6\" class=\"edge\">\n",
       "<title>4554006912&#45;&gt;4554002928*</title>\n",
       "<path fill=\"none\" stroke=\"black\" d=\"M107.39,-30.97C116.08,-33.02 124.89,-35.1 133.04,-37.02\"/>\n",
       "<polygon fill=\"black\" stroke=\"black\" points=\"132.01,-40.37 142.55,-39.26 133.62,-33.56 132.01,-40.37\"/>\n",
       "</g>\n",
       "<!-- 4554003888 -->\n",
       "<g id=\"node7\" class=\"node\">\n",
       "<title>4554003888</title>\n",
       "<polygon fill=\"none\" stroke=\"black\" points=\"468.62,-54.5 468.62,-90.5 571.12,-90.5 571.12,-54.5 468.62,-54.5\"/>\n",
       "<text xml:space=\"preserve\" text-anchor=\"middle\" x=\"480\" y=\"-67.7\" font-family=\"Times,serif\" font-size=\"14.00\">d</text>\n",
       "<polyline fill=\"none\" stroke=\"black\" points=\"491.38,-55 491.38,-90.5\"/>\n",
       "<text xml:space=\"preserve\" text-anchor=\"middle\" x=\"531.25\" y=\"-67.7\" font-family=\"Times,serif\" font-size=\"14.00\">data 4.0000</text>\n",
       "</g>\n",
       "<!-- 4554003888&#45;&gt;4554007872* -->\n",
       "<g id=\"edge7\" class=\"edge\">\n",
       "<title>4554003888&#45;&gt;4554007872*</title>\n",
       "<path fill=\"none\" stroke=\"black\" d=\"M571.59,-84.58C580.59,-86.72 589.79,-88.91 598.28,-90.93\"/>\n",
       "<polygon fill=\"black\" stroke=\"black\" points=\"597.3,-94.3 607.84,-93.21 598.93,-87.49 597.3,-94.3\"/>\n",
       "</g>\n",
       "<!-- 4554003888+&#45;&gt;4554003888 -->\n",
       "<g id=\"edge2\" class=\"edge\">\n",
       "<title>4554003888+&#45;&gt;4554003888</title>\n",
       "<path fill=\"none\" stroke=\"black\" d=\"M431.8,-72.5C439.43,-72.5 448.11,-72.5 456.96,-72.5\"/>\n",
       "<polygon fill=\"black\" stroke=\"black\" points=\"456.68,-76 466.68,-72.5 456.68,-69 456.68,-76\"/>\n",
       "</g>\n",
       "<!-- 4554002928 -->\n",
       "<g id=\"node9\" class=\"node\">\n",
       "<title>4554002928</title>\n",
       "<polygon fill=\"none\" stroke=\"black\" points=\"234.12,-27.5 234.12,-63.5 340.38,-63.5 340.38,-27.5 234.12,-27.5\"/>\n",
       "<text xml:space=\"preserve\" text-anchor=\"middle\" x=\"245.12\" y=\"-40.7\" font-family=\"Times,serif\" font-size=\"14.00\">e</text>\n",
       "<polyline fill=\"none\" stroke=\"black\" points=\"256.12,-28 256.12,-63.5\"/>\n",
       "<text xml:space=\"preserve\" text-anchor=\"middle\" x=\"298.25\" y=\"-40.7\" font-family=\"Times,serif\" font-size=\"14.00\">data &#45;6.0000</text>\n",
       "</g>\n",
       "<!-- 4554002928&#45;&gt;4554003888+ -->\n",
       "<g id=\"edge4\" class=\"edge\">\n",
       "<title>4554002928&#45;&gt;4554003888+</title>\n",
       "<path fill=\"none\" stroke=\"black\" d=\"M340.82,-57.81C349.88,-59.94 359.11,-62.1 367.6,-64.09\"/>\n",
       "<polygon fill=\"black\" stroke=\"black\" points=\"366.63,-67.46 377.16,-66.33 368.22,-60.64 366.63,-67.46\"/>\n",
       "</g>\n",
       "<!-- 4554002928*&#45;&gt;4554002928 -->\n",
       "<g id=\"edge3\" class=\"edge\">\n",
       "<title>4554002928*&#45;&gt;4554002928</title>\n",
       "<path fill=\"none\" stroke=\"black\" d=\"M197.44,-45.5C205.1,-45.5 213.82,-45.5 222.73,-45.5\"/>\n",
       "<polygon fill=\"black\" stroke=\"black\" points=\"222.53,-49 232.53,-45.5 222.53,-42 222.53,-49\"/>\n",
       "</g>\n",
       "</g>\n",
       "</svg>\n"
      ],
      "text/plain": [
       "<graphviz.graphs.Digraph at 0x10f709580>"
      ]
     },
     "execution_count": 35,
     "metadata": {},
     "output_type": "execute_result"
    }
   ],
   "source": [
    "draw_dot(L)\n",
    "# visualization of the forward pass (from left to right):"
   ]
  },
  {
   "cell_type": "markdown",
   "id": "dbcfffc0-3ea5-481f-a4a6-b361c67a50e2",
   "metadata": {},
   "source": [
    "To do backprop, we start at L and calculate the gradients along all the intermediate values.\n",
    "So find the derivatives of L with respect to the weights of the neural network (a, b, e, c, f, d)\n",
    "Now, let's add the gradient:"
   ]
  },
  {
   "cell_type": "code",
   "execution_count": 36,
   "id": "be162cb0-5fea-43d5-b42e-878efa3d1e50",
   "metadata": {},
   "outputs": [],
   "source": [
    "class Value:\n",
    "    \n",
    "    def __init__(self, data, _children=(), _op='', label=''):\n",
    "        self.data = data\n",
    "        self.grad = 0 # set to 0 by default, means that changing a variable doesn't change the loss function\n",
    "        self._prev = set(_children)\n",
    "        self._op = _op\n",
    "        self.label = label\n",
    "            \n",
    "    def __repr__(self):\n",
    "        return f\"Value(data={self.data})\"\n",
    "\n",
    "    def __add__(self, other):\n",
    "        return Value(self.data + other.data, (self, other), '+')\n",
    "        \n",
    "    def __mul__(self, other):\n",
    "        return Value(self.data * other.data, (self, other), '*')"
   ]
  },
  {
   "cell_type": "code",
   "execution_count": 37,
   "id": "5ce26bb8-10a3-481c-b76b-39a0f6ac575c",
   "metadata": {},
   "outputs": [],
   "source": [
    "def draw_dot(root):\n",
    "    dot = Digraph(format='svg', graph_attr={'rankdir': 'LR'}) # LR meaning left to right\n",
    "    nodes, edges = trace(root)\n",
    "    for n in nodes:\n",
    "        uid = str(id(n))\n",
    "        dot.node(name = uid, label = \"{ %s | data %.4f | grad %.4f}\" % (n.label, n.data, n.grad), shape='record')\n",
    "        \n",
    "        if n._op:\n",
    "            dot.node(name = uid + n._op, label = n._op)\n",
    "            dot.edge(uid + n._op, uid)\n",
    "            \n",
    "    for n1, n2 in edges:\n",
    "        dot.edge(str(id(n1)), str(id(n2)) + n2._op)\n",
    "        \n",
    "    return dot\n",
    "draw_dot(L)"
   ]
  },
  {
   "cell_type": "markdown",
   "id": "f0a8a174-b2ff-4704-8c6f-9261775297e8",
   "metadata": {},
   "source": [
    "Filling in the gradients for L, d, and f: "
   ]
  },
  {
   "cell_type": "code",
   "execution_count": 38,
   "id": "0829dbc6-c88d-4de5-8914-85cc66b956ee",
   "metadata": {},
   "outputs": [],
   "source": [
    "L.grad = 1.0\n",
    "d.grad = f.data\n",
    "f.grad = d.data"
   ]
  },
  {
   "cell_type": "code",
   "execution_count": 39,
   "id": "bcfd676a-acd5-42b0-b632-39223131901d",
   "metadata": {},
   "outputs": [
    {
     "ename": "AttributeError",
     "evalue": "'Value' object has no attribute 'grad'",
     "output_type": "error",
     "traceback": [
      "\u001b[0;31m---------------------------------------------------------------------------\u001b[0m",
      "\u001b[0;31mAttributeError\u001b[0m                            Traceback (most recent call last)",
      "Cell \u001b[0;32mIn[39], line 1\u001b[0m\n\u001b[0;32m----> 1\u001b[0m draw_dot(L)\n",
      "Cell \u001b[0;32mIn[37], line 6\u001b[0m, in \u001b[0;36mdraw_dot\u001b[0;34m(root)\u001b[0m\n\u001b[1;32m      4\u001b[0m \u001b[38;5;28;01mfor\u001b[39;00m n \u001b[38;5;129;01min\u001b[39;00m nodes:\n\u001b[1;32m      5\u001b[0m     uid \u001b[38;5;241m=\u001b[39m \u001b[38;5;28mstr\u001b[39m(\u001b[38;5;28mid\u001b[39m(n))\n\u001b[0;32m----> 6\u001b[0m     dot\u001b[38;5;241m.\u001b[39mnode(name \u001b[38;5;241m=\u001b[39m uid, label \u001b[38;5;241m=\u001b[39m \u001b[38;5;124m\"\u001b[39m\u001b[38;5;124m{\u001b[39m\u001b[38;5;124m \u001b[39m\u001b[38;5;132;01m%s\u001b[39;00m\u001b[38;5;124m | data \u001b[39m\u001b[38;5;132;01m%.4f\u001b[39;00m\u001b[38;5;124m | grad \u001b[39m\u001b[38;5;132;01m%.4f\u001b[39;00m\u001b[38;5;124m}\u001b[39m\u001b[38;5;124m\"\u001b[39m \u001b[38;5;241m%\u001b[39m (n\u001b[38;5;241m.\u001b[39mlabel, n\u001b[38;5;241m.\u001b[39mdata, n\u001b[38;5;241m.\u001b[39mgrad), shape\u001b[38;5;241m=\u001b[39m\u001b[38;5;124m'\u001b[39m\u001b[38;5;124mrecord\u001b[39m\u001b[38;5;124m'\u001b[39m)\n\u001b[1;32m      8\u001b[0m     \u001b[38;5;28;01mif\u001b[39;00m n\u001b[38;5;241m.\u001b[39m_op:\n\u001b[1;32m      9\u001b[0m         dot\u001b[38;5;241m.\u001b[39mnode(name \u001b[38;5;241m=\u001b[39m uid \u001b[38;5;241m+\u001b[39m n\u001b[38;5;241m.\u001b[39m_op, label \u001b[38;5;241m=\u001b[39m n\u001b[38;5;241m.\u001b[39m_op)\n",
      "\u001b[0;31mAttributeError\u001b[0m: 'Value' object has no attribute 'grad'"
     ]
    }
   ],
   "source": [
    "draw_dot(L)"
   ]
  },
  {
   "cell_type": "markdown",
   "id": "23080b80-9cb9-48fd-8899-8d6f9ed7c7f3",
   "metadata": {},
   "source": [
    "Now we need to derive dL/dc. We know that dd/dc = 1.0 and dd/de = 1.0 because there's an addition (d = c + e).\n",
    "Then we apply the chain rule to get dL/dc.\n",
    "\n",
    "dL/dc = (dL/dd) * (dd/dc) = -2.0 * 1.0 = -2.0\n",
    "\n",
    "The plus nodes just route the gradient because their local derivative is 1."
   ]
  },
  {
   "cell_type": "code",
   "execution_count": null,
   "id": "608a3c0e-e0e0-4513-bc39-023fd8d16066",
   "metadata": {},
   "outputs": [],
   "source": [
    "c.grad = d.grad\n",
    "e.grad = d.grad\n",
    "draw_dot(L)"
   ]
  },
  {
   "cell_type": "markdown",
   "id": "d288a7e0-44e6-43d7-9f93-f0898a56fef6",
   "metadata": {},
   "source": [
    "Next: dL/da - ?\n",
    "dL/da = dL/de * de/da = -2 * -3 = 6"
   ]
  },
  {
   "cell_type": "code",
   "execution_count": null,
   "id": "89c38f01-db52-41ba-89c0-6a202a222ed4",
   "metadata": {},
   "outputs": [],
   "source": [
    "a.grad = b.data * e.grad\n",
    "b.grad = a.data * e.grad\n",
    "draw_dot(L)"
   ]
  }
 ],
 "metadata": {
  "kernelspec": {
   "display_name": "Python 3 (ipykernel)",
   "language": "python",
   "name": "python3"
  },
  "language_info": {
   "codemirror_mode": {
    "name": "ipython",
    "version": 3
   },
   "file_extension": ".py",
   "mimetype": "text/x-python",
   "name": "python",
   "nbconvert_exporter": "python",
   "pygments_lexer": "ipython3",
   "version": "3.12.2"
  }
 },
 "nbformat": 4,
 "nbformat_minor": 5
}
